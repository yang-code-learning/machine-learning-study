{
 "cells": [
  {
   "cell_type": "code",
   "execution_count": 1,
   "metadata": {},
   "outputs": [],
   "source": [
    "# import library\n",
    "import numpy as np\n",
    "import matplotlib.pyplot as plt\n",
    "import matplotlib.image as mpimg\n",
    "import math\n",
    "import pandas as pd\n"
   ]
  },
  {
   "cell_type": "markdown",
   "metadata": {},
   "source": [
    "# 1 Basic operations\n",
    "## 1.1 Logic operation"
   ]
  },
  {
   "cell_type": "code",
   "execution_count": 2,
   "metadata": {},
   "outputs": [
    {
     "name": "stdout",
     "output_type": "stream",
     "text": [
      "False\n",
      "True\n",
      "0\n",
      "0\n",
      "1\n",
      "1\n",
      "0\n",
      "1\n",
      "1\n",
      "0\n",
      "0\n"
     ]
    }
   ],
   "source": [
    "# equal\n",
    "print(1 == 2)\n",
    "print(1 != 2)\n",
    "# AND\n",
    "print(1 & 0)\n",
    "print(0 & 0)\n",
    "print(1 & 1)\n",
    "# OR\n",
    "print(1 | 0)\n",
    "print(0 | 0)\n",
    "print(1 | 1)\n",
    "# XOR\n",
    "print(1 ^ 0)\n",
    "print(0 ^ 0)\n",
    "print(1 ^ 1)\n"
   ]
  },
  {
   "cell_type": "markdown",
   "metadata": {},
   "source": [
    " \n",
    "## 1.2 Matrix computation（numpy）"
   ]
  },
  {
   "cell_type": "code",
   "execution_count": 3,
   "metadata": {},
   "outputs": [
    {
     "name": "stdout",
     "output_type": "stream",
     "text": [
      "[[1 2 3]\n",
      " [2 3 4]\n",
      " [3 4 5]]\n"
     ]
    }
   ],
   "source": [
    "# generate matrix\n",
    "a = np.array([[1, 2, 3],\n",
    "              [2, 3, 4],\n",
    "              [3, 4, 5]])\n",
    "print(a)\n"
   ]
  },
  {
   "cell_type": "code",
   "execution_count": 4,
   "metadata": {},
   "outputs": [
    {
     "name": "stdout",
     "output_type": "stream",
     "text": [
      "[[1]\n",
      " [2]\n",
      " [3]]\n"
     ]
    }
   ],
   "source": [
    "# vector\n",
    "a = np.arange(1, 4).reshape(3, 1)\n",
    "print(a)\n"
   ]
  },
  {
   "cell_type": "code",
   "execution_count": 5,
   "metadata": {},
   "outputs": [
    {
     "name": "stdout",
     "output_type": "stream",
     "text": [
      "[1.  1.1 1.2 1.3 1.4 1.5 1.6 1.7 1.8 1.9]\n",
      "[1 2 3 4 5]\n"
     ]
    }
   ],
   "source": [
    "# with step\n",
    "a = np.arange(1, 2, 0.1)\n",
    "print(a)\n",
    "a = np.arange(1, 6)\n",
    "print(a)\n"
   ]
  },
  {
   "cell_type": "code",
   "execution_count": 6,
   "metadata": {},
   "outputs": [
    {
     "name": "stdout",
     "output_type": "stream",
     "text": [
      "[[1 1 1]\n",
      " [1 1 1]]\n",
      "[[2 2 2]\n",
      " [2 2 2]]\n"
     ]
    }
   ],
   "source": [
    "# all 1's matrix\n",
    "a = np.ones((2, 3), int)\n",
    "print(a)\n",
    "a = a * 2\n",
    "print(a)\n"
   ]
  },
  {
   "cell_type": "code",
   "execution_count": 7,
   "metadata": {},
   "outputs": [
    {
     "name": "stdout",
     "output_type": "stream",
     "text": [
      "[[0 0 0]]\n"
     ]
    }
   ],
   "source": [
    "# all 0's matrix\n",
    "a = np.zeros((1, 3), int)\n",
    "print(a)\n"
   ]
  },
  {
   "cell_type": "code",
   "execution_count": 8,
   "metadata": {},
   "outputs": [
    {
     "name": "stdout",
     "output_type": "stream",
     "text": [
      "[0.47943108 0.8377205  0.82212923]\n",
      "[[0.38531729 0.76126763 0.03016636]\n",
      " [0.59854945 0.10426635 0.94190922]\n",
      " [0.99209359 0.21470789 0.72790437]]\n"
     ]
    }
   ],
   "source": [
    "# ramdom number matrix\n",
    "a = np.random.random(3)\n",
    "print(a)\n",
    "a = np.random.random(9).reshape(3, 3)\n",
    "print(a)\n"
   ]
  },
  {
   "cell_type": "code",
   "execution_count": 9,
   "metadata": {},
   "outputs": [
    {
     "name": "stdout",
     "output_type": "stream",
     "text": [
      "[0.1609694  0.23424356 0.62964811]\n"
     ]
    }
   ],
   "source": [
    "# gaussian distribution (mean 0, standard deviation 1)\n",
    "a = np.random.normal(0, 1, 3)\n",
    "print(a)\n"
   ]
  },
  {
   "cell_type": "code",
   "execution_count": 10,
   "metadata": {},
   "outputs": [
    {
     "data": {
      "text/plain": [
       "(array([  1.,   2.,   1.,   0.,   5.,   8.,  11.,  14.,  22.,  27.,  35.,\n",
       "         58.,  94., 108., 121., 166., 195., 263., 308., 374., 398., 457.,\n",
       "        474., 500., 533., 580., 563., 536., 580., 538., 461., 449., 373.,\n",
       "        349., 309., 208., 210., 189., 118., 105.,  86.,  58.,  40.,  25.,\n",
       "         16.,   8.,  12.,   7.,   2.,   3.]),\n",
       " array([-18.07121989, -17.61305403, -17.15488817, -16.69672231,\n",
       "        -16.23855645, -15.78039059, -15.32222473, -14.86405887,\n",
       "        -14.40589301, -13.94772715, -13.48956129, -13.03139543,\n",
       "        -12.57322957, -12.11506371, -11.65689785, -11.19873199,\n",
       "        -10.74056613, -10.28240027,  -9.82423441,  -9.36606855,\n",
       "         -8.90790269,  -8.44973683,  -7.99157097,  -7.53340511,\n",
       "         -7.07523926,  -6.6170734 ,  -6.15890754,  -5.70074168,\n",
       "         -5.24257582,  -4.78440996,  -4.3262441 ,  -3.86807824,\n",
       "         -3.40991238,  -2.95174652,  -2.49358066,  -2.0354148 ,\n",
       "         -1.57724894,  -1.11908308,  -0.66091722,  -0.20275136,\n",
       "          0.2554145 ,   0.71358036,   1.17174622,   1.62991208,\n",
       "          2.08807794,   2.5462438 ,   3.00440966,   3.46257552,\n",
       "          3.92074138,   4.37890724,   4.8370731 ]),\n",
       " <BarContainer object of 50 artists>)"
      ]
     },
     "execution_count": 10,
     "metadata": {},
     "output_type": "execute_result"
    },
    {
     "data": {
      "image/png": "[encoded data removed]",
      "text/plain": [
       "<Figure size 432x288 with 1 Axes>"
      ]
     },
     "metadata": {
      "needs_background": "light"
     },
     "output_type": "display_data"
    }
   ],
   "source": [
    "# histogram\n",
    "w = -6 + math.sqrt(10)*np.random.normal(0, 1, 10000)\n",
    "plt.hist(w, 50)\n"
   ]
  },
  {
   "cell_type": "code",
   "execution_count": 11,
   "metadata": {},
   "outputs": [
    {
     "name": "stdout",
     "output_type": "stream",
     "text": [
      "[[1. 0. 0. 0.]\n",
      " [0. 1. 0. 0.]\n",
      " [0. 0. 1. 0.]\n",
      " [0. 0. 0. 1.]]\n"
     ]
    }
   ],
   "source": [
    "# identity matrix\n",
    "a = np.eye(4)\n",
    "print(a)\n"
   ]
  },
  {
   "cell_type": "code",
   "execution_count": 12,
   "metadata": {},
   "outputs": [
    {
     "name": "stdout",
     "output_type": "stream",
     "text": [
      "3.141592653589793\n",
      "3.14\n"
     ]
    }
   ],
   "source": [
    "# obtain pi\n",
    "print(math.pi)\n",
    "# seserve valid digits\n",
    "print(f'{math.pi:.2f}')\n",
    "# get help\n",
    "# help(np.eye) # the results are too long\n"
   ]
  },
  {
   "cell_type": "markdown",
   "metadata": {},
   "source": [
    "---\n",
    "# 2 Moving data around\n",
    "## 2.1 size()"
   ]
  },
  {
   "cell_type": "code",
   "execution_count": 13,
   "metadata": {},
   "outputs": [
    {
     "name": "stdout",
     "output_type": "stream",
     "text": [
      "6\n",
      "(3, 2)\n",
      "3\n",
      "2\n"
     ]
    }
   ],
   "source": [
    "a = np.array([[1, 2], [3, 4], [5, 6]])\n",
    "print(np.size(a))  # all\n",
    "print(np.shape(a))  # number of rows and columns\n",
    "print(np.size(a, 0))  # number of rows first dimension\n",
    "print(np.size(a, 1))  # number of columns second dimension\n"
   ]
  },
  {
   "cell_type": "markdown",
   "metadata": {},
   "source": [
    "## 2.2 File read in and path"
   ]
  },
  {
   "cell_type": "code",
   "execution_count": 14,
   "metadata": {},
   "outputs": [
    {
     "data": {
      "text/plain": [
       "'D:\\\\workspace\\\\juypter-worksapace'"
      ]
     },
     "execution_count": 14,
     "metadata": {},
     "output_type": "execute_result"
    }
   ],
   "source": [
    "# obtain the current path\n",
    "import os\n",
    "os.getcwd()  # actually 'pwd' work as well\n"
   ]
  },
  {
   "cell_type": "code",
   "execution_count": 15,
   "metadata": {},
   "outputs": [
    {
     "data": {
      "text/plain": [
       "'D:\\\\workspace\\\\juypter-worksapace\\\\.venv'"
      ]
     },
     "execution_count": 15,
     "metadata": {},
     "output_type": "execute_result"
    }
   ],
   "source": [
    "# change the path\n",
    "os.chdir(r'.\\\\.venv')  # 'ls' works as well\n",
    "os.getcwd()\n"
   ]
  },
  {
   "cell_type": "code",
   "execution_count": 16,
   "metadata": {},
   "outputs": [
    {
     "name": "stdout",
     "output_type": "stream",
     "text": [
      "['etc', 'Include', 'Lib', 'pyvenv.cfg', 'Scripts', 'share']\n"
     ]
    }
   ],
   "source": [
    "# list the file in current path\n",
    "print(os.listdir())\n"
   ]
  },
  {
   "cell_type": "code",
   "execution_count": 17,
   "metadata": {},
   "outputs": [
    {
     "name": "stdout",
     "output_type": "stream",
     "text": [
      "1 2 3 4 5 6 7 8 9\n"
     ]
    }
   ],
   "source": [
    "# load data\n",
    "os.chdir(r'D:\\\\workspace\\\\juypter-worksapace')\n",
    "# txt format\n",
    "with open('.\\\\testfile\\\\readfile1.txt', 'r') as f:\n",
    "    txt = f.read()\n",
    "print(txt)\n"
   ]
  },
  {
   "cell_type": "code",
   "execution_count": 18,
   "metadata": {},
   "outputs": [
    {
     "name": "stdout",
     "output_type": "stream",
     "text": [
      "   甲  乙  丙  丁   戊   己   庚   辛\n",
      "0  1  2  3  4   5   6   7   8\n",
      "1  2  3  4  5   6   7   8   9\n",
      "2  3  4  5  6   7   8   9  10\n",
      "3  4  5  6  7   8   9  10  11\n",
      "4  5  6  7  8   9  10  11  12\n",
      "5  6  7  8  9  10  11  12  13\n"
     ]
    }
   ],
   "source": [
    "# csv format\n",
    "os.chdir(r'D:\\\\workspace\\\\juypter-worksapace')\n",
    "data = pd.read_csv('.\\\\testfile\\\\readfile2.csv')\n",
    "print(data)\n"
   ]
  },
  {
   "cell_type": "code",
   "execution_count": 19,
   "metadata": {},
   "outputs": [],
   "source": [
    "# save data\n",
    "a = np.array(data)\n",
    "b = pd.DataFrame(a[[2, 5], :])\n",
    "b.to_csv('.\\\\testfile\\\\writefile.csv')\n"
   ]
  },
  {
   "cell_type": "markdown",
   "metadata": {},
   "source": [
    "## 2.3 other operation in numpy\n"
   ]
  },
  {
   "cell_type": "code",
   "execution_count": 20,
   "metadata": {},
   "outputs": [
    {
     "name": "stdout",
     "output_type": "stream",
     "text": [
      "6\n",
      "[1 2]\n",
      "[[3 4]\n",
      " [5 6]]\n",
      "[1 3 5]\n"
     ]
    }
   ],
   "source": [
    "a = np.array([[1, 2], [3, 4], [5, 6]])\n",
    "# select numbers\n",
    "print(a[2, 1])  # sigle number, third row second column\n",
    "print(a[0, :])  # sinle row\n",
    "print(a[[1, 2], :])  # many rows\n",
    "print(a[:, 0])  # single colummn\n"
   ]
  },
  {
   "cell_type": "code",
   "execution_count": 21,
   "metadata": {},
   "outputs": [
    {
     "name": "stdout",
     "output_type": "stream",
     "text": [
      "[[1 2]\n",
      " [1 1]\n",
      " [1 1]]\n"
     ]
    }
   ],
   "source": [
    "# replace\n",
    "a[[1, 2], :] = [[1, 1], [1, 1]]\n",
    "print(a)\n"
   ]
  },
  {
   "cell_type": "code",
   "execution_count": 22,
   "metadata": {},
   "outputs": [
    {
     "name": "stdout",
     "output_type": "stream",
     "text": [
      "[[1 2]\n",
      " [1 1]\n",
      " [1 1]\n",
      " [6 6]\n",
      " [9 9]]\n",
      "[[1 2 3 9]\n",
      " [1 1 3 9]\n",
      " [1 1 3 9]]\n"
     ]
    }
   ],
   "source": [
    "# insert\n",
    "print(np.row_stack((a, [[6, 6], [9, 9]])))  # insert new rows\n",
    "print(np.column_stack((a, [[3, 9], [3, 9], [3, 9]])))  # insert new colummns\n"
   ]
  },
  {
   "cell_type": "code",
   "execution_count": 23,
   "metadata": {},
   "outputs": [
    {
     "name": "stdout",
     "output_type": "stream",
     "text": [
      "[[1 2 1 1]\n",
      " [3 4 1 1]\n",
      " [5 6 1 1]]\n",
      "[[1 2]\n",
      " [3 4]\n",
      " [5 6]\n",
      " [1 1]\n",
      " [1 1]\n",
      " [1 1]]\n"
     ]
    }
   ],
   "source": [
    "# merge\n",
    "a = np.array([[1, 2], [3, 4], [5, 6]])\n",
    "b = np.ones((3, 2), int)\n",
    "print(np.hstack((a, b)))  # horizontal\n",
    "print(np.vstack((a, b)))  # vertical\n"
   ]
  },
  {
   "cell_type": "code",
   "execution_count": 24,
   "metadata": {},
   "outputs": [
    {
     "data": {
      "text/plain": [
       "array([[1],\n",
       "       [2],\n",
       "       [3],\n",
       "       [4],\n",
       "       [5],\n",
       "       [6]])"
      ]
     },
     "execution_count": 24,
     "metadata": {},
     "output_type": "execute_result"
    }
   ],
   "source": [
    "# put into a single vector\n",
    "a.reshape(np.size(a), 1)\n"
   ]
  },
  {
   "cell_type": "markdown",
   "metadata": {},
   "source": [
    "---\n",
    "# 3 Computation on data\n",
    "## 3.1 general calculation"
   ]
  },
  {
   "cell_type": "code",
   "execution_count": 25,
   "metadata": {},
   "outputs": [],
   "source": [
    "# initialization\n",
    "a = np.array([[1, 2], [3, 4], [5, 6]])\n",
    "b = np.array([[11, 12], [13, 14], [15, 16]])\n",
    "c = np.array([[1, 1], [2, 2]])\n",
    "v = np.array([1, 2, 3]).reshape(3, 1)\n"
   ]
  },
  {
   "cell_type": "code",
   "execution_count": 26,
   "metadata": {},
   "outputs": [
    {
     "name": "stdout",
     "output_type": "stream",
     "text": [
      "[[11 24]\n",
      " [39 56]\n",
      " [75 96]]\n",
      "[[ 1  4]\n",
      " [ 9 16]\n",
      " [25 36]]\n",
      "[[1.        ]\n",
      " [0.5       ]\n",
      " [0.33333333]]\n",
      "[[0.        ]\n",
      " [0.69314718]\n",
      " [1.09861229]]\n",
      "[[ 2.71828183]\n",
      " [ 7.3890561 ]\n",
      " [20.08553692]]\n",
      "[[1]\n",
      " [2]\n",
      " [3]]\n",
      "[[-1]\n",
      " [-2]\n",
      " [-3]]\n",
      "[[2]\n",
      " [3]\n",
      " [4]]\n"
     ]
    }
   ],
   "source": [
    "# element-wise logarithm\n",
    "print(a*b)  # multiplication: hadamard product\n",
    "print(a**2)  # square\n",
    "print(1/v)  # reciprocal\n",
    "print(np.log(v))  # log\n",
    "print(np.exp(v))  # exponential\n",
    "print(np.abs(v))  # absolute\n",
    "print(-v)  # negative\n",
    "print(v+1)  # add ones (or v+np.ones((3,1),int)\n"
   ]
  },
  {
   "cell_type": "code",
   "execution_count": 27,
   "metadata": {},
   "outputs": [
    {
     "name": "stdout",
     "output_type": "stream",
     "text": [
      "7\n",
      "[5 7]\n",
      "[7 4 6]\n"
     ]
    }
   ],
   "source": [
    "# maximum\n",
    "a = np.array([[1, 7], [3, 4], [5, 6]])\n",
    "print(a.max())  # all\n",
    "print(a.max(axis=0))  # compare by rows,repalace with bigger one\n",
    "print(a.max(axis=1))  # cpmare by columns\n"
   ]
  },
  {
   "cell_type": "code",
   "execution_count": 28,
   "metadata": {},
   "outputs": [
    {
     "name": "stdout",
     "output_type": "stream",
     "text": [
      "[[ True False]\n",
      " [False False]\n",
      " [False False]]\n",
      "[[0 1]\n",
      " [1 1]\n",
      " [2 0]\n",
      " [2 1]]\n"
     ]
    }
   ],
   "source": [
    "# compare\n",
    "print(a < 3)  # true or false\n",
    "print(np.argwhere(a > 3))  # index([r,c])\n"
   ]
  },
  {
   "cell_type": "code",
   "execution_count": 29,
   "metadata": {},
   "outputs": [
    {
     "name": "stdout",
     "output_type": "stream",
     "text": [
      "26\n",
      "[ 9 17]\n",
      "[ 8  7 11]\n",
      "2520\n"
     ]
    }
   ],
   "source": [
    "# sum\n",
    "print(np.sum(a))\n",
    "print(np.sum(a, axis=0))\n",
    "print(np.sum(a, axis=1))\n",
    "# prod\n",
    "print(np.prod(a))\n"
   ]
  },
  {
   "cell_type": "code",
   "execution_count": 30,
   "metadata": {},
   "outputs": [
    {
     "name": "stdout",
     "output_type": "stream",
     "text": [
      "[4.26086973 7.25080712 6.92670415]\n",
      "[5. 8. 7.]\n",
      "[4. 7. 6.]\n"
     ]
    }
   ],
   "source": [
    "# ceil&floor\n",
    "b = np.random.random(3)*10\n",
    "print(b)\n",
    "print(np.ceil(b))\n",
    "print(np.floor(b))\n"
   ]
  },
  {
   "cell_type": "markdown",
   "metadata": {},
   "source": [
    "## 3.2 matrix calculation"
   ]
  },
  {
   "cell_type": "code",
   "execution_count": 31,
   "metadata": {},
   "outputs": [
    {
     "name": "stdout",
     "output_type": "stream",
     "text": [
      "[[1 3 5]\n",
      " [7 4 6]]\n",
      "[[1 7]\n",
      " [3 4]\n",
      " [5 6]]\n",
      "[[15 15]\n",
      " [11 11]\n",
      " [17 17]]\n",
      "[[1 1]\n",
      " [2 2]]\n",
      "[[0.1 0.2]\n",
      " [0.1 0.2]]\n"
     ]
    }
   ],
   "source": [
    "# reanspose\n",
    "print(a.T)\n",
    "print(a.T.T)\n",
    "# matmul product\n",
    "print(np.dot(a, c))\n",
    "# inverse (pseudoinverse)\n",
    "print(c)\n",
    "print(np.linalg.pinv(c))\n"
   ]
  },
  {
   "cell_type": "markdown",
   "metadata": {},
   "source": [
    "---\n",
    "# 4 Plotting data"
   ]
  },
  {
   "cell_type": "code",
   "execution_count": 32,
   "metadata": {},
   "outputs": [
    {
     "data": {
      "image/png": "[encoded data removed]",
      "text/plain": [
       "<Figure size 432x288 with 1 Axes>"
      ]
     },
     "metadata": {
      "needs_background": "light"
     },
     "output_type": "display_data"
    }
   ],
   "source": [
    "t = np.arange(0, 1.01, 0.01)\n",
    "y1 = np.sin(2*math.pi*t)\n",
    "y2 = np.cos(2*math.pi*t)\n",
    "# plot\n",
    "plt.plot(t, y1)\n",
    "plt.plot(t, y2, 'r')\n",
    "# label\n",
    "plt.xlabel('time')\n",
    "plt.ylabel('value')\n",
    "plt.legend(['sin', 'cos'])\n",
    "plt.title('myplot')\n",
    "# save\n",
    "plt.savefig('.\\\\testfile\\\\testplot.jpg')\n"
   ]
  },
  {
   "cell_type": "code",
   "execution_count": 33,
   "metadata": {},
   "outputs": [
    {
     "data": {
      "image/png": "[encoded data removed]",
      "text/plain": [
       "<Figure size 432x288 with 1 Axes>"
      ]
     },
     "metadata": {
      "needs_background": "light"
     },
     "output_type": "display_data"
    }
   ],
   "source": [
    "# load\n",
    "img = mpimg.imread('.\\\\testfile\\\\testplot.jpg')\n",
    "plt.imshow(img)\n",
    "plt.axis('off')  # no axis\n",
    "plt.show()\n"
   ]
  },
  {
   "cell_type": "code",
   "execution_count": 34,
   "metadata": {},
   "outputs": [
    {
     "data": {
      "text/plain": [
       "[<matplotlib.lines.Line2D at 0x2ac3d370640>]"
      ]
     },
     "execution_count": 34,
     "metadata": {},
     "output_type": "execute_result"
    },
    {
     "data": {
      "image/png": "[encoded data removed]",
      "text/plain": [
       "<Figure size 432x288 with 2 Axes>"
      ]
     },
     "metadata": {
      "needs_background": "light"
     },
     "output_type": "display_data"
    }
   ],
   "source": [
    "# multiple plot\n",
    "plt.subplot(1, 2, 1)\n",
    "plt.plot(t, y1)\n",
    "plt.subplot(1, 2, 2)\n",
    "plt.plot(t, y2)\n"
   ]
  },
  {
   "cell_type": "code",
   "execution_count": 35,
   "metadata": {},
   "outputs": [
    {
     "data": {
      "text/plain": [
       "(0.5, 1.0, -1.0, 1.0)"
      ]
     },
     "execution_count": 35,
     "metadata": {},
     "output_type": "execute_result"
    },
    {
     "data": {
      "image/png": "[encoded data removed]",
      "text/plain": [
       "<Figure size 432x288 with 1 Axes>"
      ]
     },
     "metadata": {
      "needs_background": "light"
     },
     "output_type": "display_data"
    }
   ],
   "source": [
    "# change the axis\n",
    "plt.plot(t, y1)\n",
    "plt.axis([0.5, 1, -1, 1])\n"
   ]
  },
  {
   "cell_type": "code",
   "execution_count": 36,
   "metadata": {},
   "outputs": [
    {
     "data": {
      "image/png": "[encoded data removed]",
      "text/plain": [
       "<Figure size 432x288 with 2 Axes>"
      ]
     },
     "metadata": {
      "needs_background": "light"
     },
     "output_type": "display_data"
    }
   ],
   "source": [
    "A = [[17, 24, 1, 8, 15], [23, 5, 7, 14, 16], [\n",
    "    4, 6, 13, 20, 22], [10, 12, 19, 21, 3], [11, 18, 25, 2, 9]]\n",
    "plt.imshow(A, cmap=plt.cm.gray)\n",
    "plt.colorbar()\n",
    "plt.show()\n"
   ]
  },
  {
   "cell_type": "markdown",
   "metadata": {},
   "source": [
    " ---\n",
    " # 5 For, while, if statements and function\n"
   ]
  },
  {
   "cell_type": "code",
   "execution_count": 37,
   "metadata": {},
   "outputs": [
    {
     "name": "stdout",
     "output_type": "stream",
     "text": [
      "[[   2]\n",
      " [   4]\n",
      " [   8]\n",
      " [  16]\n",
      " [  32]\n",
      " [  64]\n",
      " [ 128]\n",
      " [ 256]\n",
      " [ 512]\n",
      " [1024]]\n"
     ]
    }
   ],
   "source": [
    "# for statement\n",
    "a = np.ones((10, 1), int)\n",
    "for i in range(10):\n",
    "    a[i] = 2**(i+1)  # index start from 0\n",
    "print(a)\n"
   ]
  },
  {
   "cell_type": "code",
   "execution_count": 38,
   "metadata": {},
   "outputs": [
    {
     "name": "stdout",
     "output_type": "stream",
     "text": [
      "[[ 100]\n",
      " [ 100]\n",
      " [ 100]\n",
      " [ 100]\n",
      " [ 100]\n",
      " [  64]\n",
      " [ 128]\n",
      " [ 256]\n",
      " [ 512]\n",
      " [1024]]\n"
     ]
    }
   ],
   "source": [
    "# while statement\n",
    "i = 0\n",
    "while i <= 4:\n",
    "    a[i] = 100\n",
    "    i = i+1\n",
    "print(a)\n"
   ]
  },
  {
   "cell_type": "code",
   "execution_count": 39,
   "metadata": {},
   "outputs": [
    {
     "name": "stdout",
     "output_type": "stream",
     "text": [
      "The value is two\n"
     ]
    }
   ],
   "source": [
    "# if statement\n",
    "a[0] = 2\n",
    "if a[0] == 1:\n",
    "    print('The value is one')\n",
    "elif a[0] == 2:\n",
    "    print('The value is two')\n",
    "else:\n",
    "    print('The value is not one or two')\n"
   ]
  },
  {
   "cell_type": "code",
   "execution_count": 40,
   "metadata": {},
   "outputs": [
    {
     "name": "stdout",
     "output_type": "stream",
     "text": [
      "25\n",
      "125\n"
     ]
    }
   ],
   "source": [
    "# define function\n",
    "def squareThisNumber(x):\n",
    "    return x**2\n",
    "\n",
    "\n",
    "def squareAndCubeThisNumber(x):\n",
    "    y1 = x**2\n",
    "    y2 = x**3\n",
    "    return [y1, y2]\n",
    "\n",
    "\n",
    "print(squareThisNumber(5))\n",
    "[a, b] = squareAndCubeThisNumber(5)\n",
    "print(b)\n"
   ]
  },
  {
   "cell_type": "code",
   "execution_count": 41,
   "metadata": {},
   "outputs": [
    {
     "name": "stdout",
     "output_type": "stream",
     "text": [
      "2.333333333333333\n"
     ]
    }
   ],
   "source": [
    "# cost function\n",
    "def costFunction(X, y, theta):\n",
    "    '''\n",
    "    X is the \"design matrix\" containing our training example\n",
    "    y is the class label\n",
    "    '''\n",
    "    m = np.size(X, 0)  # number of training examples\n",
    "    # predictions of hypothesis on all m examples\n",
    "    predictions = np.dot(X, theta)\n",
    "    sqrErrors = (predictions-y)**2\n",
    "    J = (1/(2*m)) * np.sum(sqrErrors)\n",
    "    return J\n",
    "\n",
    "\n",
    "X = np.array([[1, 1], [1, 2], [1, 3]])\n",
    "y = np.array([[1, 2, 3]]).T\n",
    "theta = np.zeros((2, 1), int)\n",
    "print(costFunction(X, y, theta))\n"
   ]
  },
  {
   "cell_type": "markdown",
   "metadata": {},
   "source": [
    "---\n",
    "# 6 Vectorization"
   ]
  },
  {
   "cell_type": "markdown",
   "metadata": {},
   "source": [
    "### an vectorization example $$h_\\theta(x) = \\sum_{j=0}^n\\theta_jx_j$$\n"
   ]
  },
  {
   "cell_type": "code",
   "execution_count": 42,
   "metadata": {},
   "outputs": [
    {
     "name": "stdout",
     "output_type": "stream",
     "text": [
      "[32.]\n",
      "[[32]]\n"
     ]
    }
   ],
   "source": [
    "theta = np.array([[1, 2, 3]]).T\n",
    "x = np.array([[4, 5, 6]]).T\n",
    "# unvectorized implementation\n",
    "prediction = 0.0\n",
    "size = np.size(x)\n",
    "for j in range(size):\n",
    "    prediction = prediction + theta[j] * x[j]\n",
    "print(prediction)\n",
    "\n",
    "# vectorized mathod\n",
    "prediction = np.dot(theta.T, x)\n",
    "print(prediction)\n"
   ]
  }
 ],
 "metadata": {
  "interpreter": {
   "hash": "41d27aaf939e50f8492bb815c7612a5752c04adefbcdaddfb071ca20506205c0"
  },
  "kernelspec": {
   "display_name": "Python 3 (ipykernel)",
   "language": "python",
   "name": "python3"
  },
  "language_info": {
   "codemirror_mode": {
    "name": "ipython",
    "version": 3
   },
   "file_extension": ".py",
   "mimetype": "text/x-python",
   "name": "python",
   "nbconvert_exporter": "python",
   "pygments_lexer": "ipython3",
   "version": "3.8.10"
  }
 },
 "nbformat": 4,
 "nbformat_minor": 2
}
